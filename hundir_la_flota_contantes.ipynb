{
 "cells": [
  {
   "cell_type": "code",
   "execution_count": 3,
   "metadata": {},
   "outputs": [],
   "source": [
    "import numpy as np\n",
    "\n",
    "import random\n",
    "\n",
    "import os\n",
    "\n",
    "from emoji import emojize\n"
   ]
  },
  {
   "cell_type": "code",
   "execution_count": 4,
   "metadata": {},
   "outputs": [],
   "source": [
    "\"\"\"\n",
    "Esto deshabilita el mensaje inicial de Pygame\n",
    "\"\"\"\n",
    "os.environ['PYGAME_HIDE_SUPPORT_PROMPT'] = \"sí\"\n",
    "import pygame\n",
    "\n",
    "pygame.init()\n",
    "pygame.mixer.init()\n",
    "\n",
    "boat_sound = pygame.mixer.Sound(\"boat_sound.wav\")\n",
    "water_sound = pygame.mixer.Sound(\"water_sound.wav\")"
   ]
  },
  {
   "cell_type": "code",
   "execution_count": 9,
   "metadata": {},
   "outputs": [],
   "source": [
    "# CONSTANTES\n",
    "\n",
    "\n",
    "rows = 10\n",
    "columns = 10\n",
    "water = \" \"\n",
    "boat = \"\\U0001F6E5\"\n",
    "boat_1 = boat + boat + boat + boat  \n",
    "boat_2 = boat + boat + boat \n",
    "boat_3 = boat + boat  \n",
    "boat_4 = boat \n",
    "total_boats = 10\n",
    "shoot_water = \":droplet:\"\n",
    "shoot_boat = \":collision:\"\n",
    "starter_shoots = 10\n",
    "boat_number = 10\n",
    "player_1 = \"P1\"\n",
    "player_2 = \"P2\"\n",
    "available_boats = [boat_1, boat_1, boat_1, boat_1, boat_2, boat_2, boat_2, boat_3, boat_3, boat]\n",
    "chosen_lenght = 0\n",
    "\n"
   ]
  },
  {
   "cell_type": "code",
   "execution_count": 10,
   "metadata": {},
   "outputs": [],
   "source": [
    "# FUNCIONES DE SONIDO\n",
    "\n",
    "def play_boat_sound():\n",
    "    pygame.mixer.Sound.play(boat_sound)\n",
    "\n",
    "\n",
    "def play_water_sound():\n",
    "    pygame.mixer.Sound.play(water_sound)"
   ]
  },
  {
   "cell_type": "code",
   "execution_count": 11,
   "metadata": {},
   "outputs": [],
   "source": [
    "# FUNCION INICIAR TABLERO\n",
    "\n",
    "def board_starter():\n",
    "    board = np.full((10,10), fill_value=water)\n",
    "    return board"
   ]
  },
  {
   "cell_type": "code",
   "execution_count": 13,
   "metadata": {},
   "outputs": [],
   "source": [
    "# VER SI LA COORDENAD ESTÁ VACÍA\n",
    "# def es_mar(x, y, board):\n",
    "#     return board[y][x] == water"
   ]
  },
  {
   "cell_type": "code",
   "execution_count": 14,
   "metadata": {},
   "outputs": [],
   "source": [
    "# FUNCION ELEGIR QUE BARCO QUIERES COLOCAR\n",
    "\n",
    "def choose_boat(available_boats,boat_number):\n",
    "    print(available_boats)\n",
    "    index = int(input())\n",
    "    if len(available_boats) == 1:\n",
    "        chosen_boat = available_boats[0]\n",
    "        boat_number -= 1\n",
    "    else:\n",
    "        chosen_boat = available_boats[index - 1]\n",
    "        available_boats.pop(index-1)\n",
    "        boat_number -= 1\n",
    "    print(chosen_boat)\n",
    "    return chosen_boat\n"
   ]
  },
  {
   "cell_type": "code",
   "execution_count": 15,
   "metadata": {},
   "outputs": [],
   "source": [
    "# FUNCION COLOCAR BARCO INDIVIDUAL\n",
    "\n",
    "def place_single_boat(board,chosen_boat):\n",
    "    \n",
    "    chosen_boat = len(str(chosen_boat))\n",
    "\n",
    "    column = int(input())\n",
    "    row = int(input())\n",
    "    boat_position = [(row, column)]\n",
    "\n",
    "    if column == 10 and row == 1:\n",
    "        direction = input(\"Choose the direction of your boat. Based on your starting position it can be South or West\")\n",
    "    elif column == 10 and row == 1: \n",
    "        direction = input(\"Choose the direction of your boat. Based on your starting position it can be South or West\")\n",
    "    elif column == 1 and row == 1:\n",
    "        direction = input(\"Choose the direction of your boat. Based on your starting position it can be South or East\")\n",
    "    elif column == 1 and row == 10:\n",
    "        direction = input(\"Choose the direction of your boat. Based on your starting position it can be North or West\")\n",
    "    elif column == 10: \n",
    "        direction = input(\"Choose the direction of your boat. Based on your starting position it can be North, South or West\")\n",
    "    elif column == 1: \n",
    "        direction = input(\"Choose the direction of your boat. Based on your starting position it can be North, South or East\")\n",
    "    elif row == 10: \n",
    "        direction = input(\"Choose the direction of your boat. Based on your starting position it can be North, East or West\")\n",
    "    elif row == 1: \n",
    "        direction = input(\"Choose the direction of your boat. Based on your starting position it can be South, East or West\")\n",
    "    else:\n",
    "        direction = input(\"Choose the direction of your boat. Based on your starting position it can be North, South, East and West\")\n",
    "\n",
    "    print(\"Placing boat in direction\" , direction)\n",
    "\n",
    "    while len(boat_position) < chosen_boat:\n",
    "    \n",
    "        if direction == \"North\":\n",
    "            row = row - 1\n",
    "        if direction == \"South\":\n",
    "            row = row + 1\n",
    "        if direction == \"East\":\n",
    "            column = column + 1\n",
    "        if direction == \"West\":\n",
    "            column = column - 1\n",
    "\n",
    "        boat_position.append((row, column))\n",
    "\n",
    "    for elem in boat_position:\n",
    "        print('Placing boat in position', elem)\n",
    "        board[elem] = \"\\U0001F6E5\"\n",
    "    print(board)\n",
    "    return board\n"
   ]
  },
  {
   "cell_type": "code",
   "execution_count": 16,
   "metadata": {},
   "outputs": [],
   "source": [
    "# FUNCION COLOCAR TODOS LOS BARCOS\n",
    "\n",
    "def place_all_boats(board):\n",
    "    while boat_number > 0:\n",
    "        place_single_boat(board_1, choose_boat(available_boats,boat_number))\n",
    "        \n",
    "        "
   ]
  },
  {
   "cell_type": "code",
   "execution_count": 17,
   "metadata": {},
   "outputs": [],
   "source": [
    "# FUNCION DISPAROS\n",
    "\n",
    "def shooting(board):\n",
    "\n",
    "    target_row = int(input())\n",
    "    target_column = int(input())\n",
    "\n",
    "    target = (target_row, target_column)\n",
    "    \n",
    "    print(board[target])\n",
    "\n",
    "    if board[target] == \"\\U0001F6E5\":\n",
    "        print(\"Touched\")\n",
    "        play_boat_sound()\n",
    "\n",
    "        board[target] = water\n",
    "    else:\n",
    "        print(\"Water\")\n",
    "        play_water_sound()\n",
    "        board[target] = \"\\U0001F4A7\"\n",
    "\n",
    "    print(board)\n",
    "    \n",
    "    return board"
   ]
  },
  {
   "cell_type": "code",
   "execution_count": 20,
   "metadata": {},
   "outputs": [
    {
     "name": "stdout",
     "output_type": "stream",
     "text": [
      "[[' ' ' ' ' ' ' ' ' ' ' ' ' ' ' ' ' ' ' ']\n",
      " [' ' ' ' ' ' ' ' ' ' ' ' ' ' ' ' ' ' ' ']\n",
      " [' ' ' ' ' ' ' ' ' ' ' ' ' ' ' ' ' ' ' ']\n",
      " [' ' ' ' ' ' ' ' ' ' ' ' ' ' ' ' ' ' ' ']\n",
      " [' ' ' ' ' ' ' ' ' ' ' ' ' ' ' ' ' ' ' ']\n",
      " [' ' ' ' ' ' ' ' ' ' ' ' ' ' ' ' ' ' ' ']\n",
      " [' ' ' ' ' ' ' ' ' ' ' ' ' ' ' ' ' ' ' ']\n",
      " [' ' ' ' ' ' ' ' ' ' ' ' ' ' ' ' ' ' ' ']\n",
      " [' ' ' ' ' ' ' ' ' ' ' ' ' ' ' ' ' ' ' ']\n",
      " [' ' ' ' ' ' ' ' ' ' ' ' ' ' ' ' ' ' ' ']]\n",
      "['🛥🛥🛥🛥', '🛥🛥🛥🛥', '🛥🛥🛥🛥', '🛥🛥🛥🛥', '🛥🛥🛥', '🛥🛥🛥', '🛥🛥', '🛥🛥', '🛥']\n",
      "🛥🛥🛥🛥\n",
      "Placing boat in direction 4\n",
      "Placing boat in position (4, 4)\n",
      "Placing boat in position (4, 4)\n",
      "Placing boat in position (4, 4)\n",
      "Placing boat in position (4, 4)\n",
      "[[' ' ' ' ' ' ' ' ' ' ' ' ' ' ' ' ' ' ' ']\n",
      " [' ' ' ' ' ' ' ' ' ' ' ' ' ' ' ' ' ' ' ']\n",
      " [' ' ' ' ' ' ' ' ' ' ' ' ' ' ' ' ' ' ' ']\n",
      " [' ' ' ' ' ' ' ' ' ' ' ' ' ' ' ' ' ' ' ']\n",
      " [' ' ' ' ' ' ' ' '🛥' ' ' ' ' ' ' ' ' ' ']\n",
      " [' ' ' ' ' ' ' ' ' ' ' ' ' ' ' ' ' ' ' ']\n",
      " [' ' ' ' ' ' ' ' ' ' ' ' ' ' ' ' ' ' ' ']\n",
      " [' ' ' ' ' ' ' ' ' ' ' ' ' ' ' ' ' ' ' ']\n",
      " [' ' ' ' ' ' ' ' ' ' ' ' ' ' ' ' ' ' ' ']\n",
      " [' ' ' ' ' ' ' ' ' ' ' ' ' ' ' ' ' ' ' ']]\n",
      "['🛥🛥🛥🛥', '🛥🛥🛥🛥', '🛥🛥🛥🛥', '🛥🛥🛥', '🛥🛥🛥', '🛥🛥', '🛥🛥', '🛥']\n",
      "🛥🛥🛥\n",
      "Placing boat in direction 5\n",
      "Placing boat in position (5, 5)\n",
      "Placing boat in position (5, 5)\n",
      "Placing boat in position (5, 5)\n",
      "[[' ' ' ' ' ' ' ' ' ' ' ' ' ' ' ' ' ' ' ']\n",
      " [' ' ' ' ' ' ' ' ' ' ' ' ' ' ' ' ' ' ' ']\n",
      " [' ' ' ' ' ' ' ' ' ' ' ' ' ' ' ' ' ' ' ']\n",
      " [' ' ' ' ' ' ' ' ' ' ' ' ' ' ' ' ' ' ' ']\n",
      " [' ' ' ' ' ' ' ' '🛥' ' ' ' ' ' ' ' ' ' ']\n",
      " [' ' ' ' ' ' ' ' ' ' '🛥' ' ' ' ' ' ' ' ']\n",
      " [' ' ' ' ' ' ' ' ' ' ' ' ' ' ' ' ' ' ' ']\n",
      " [' ' ' ' ' ' ' ' ' ' ' ' ' ' ' ' ' ' ' ']\n",
      " [' ' ' ' ' ' ' ' ' ' ' ' ' ' ' ' ' ' ' ']\n",
      " [' ' ' ' ' ' ' ' ' ' ' ' ' ' ' ' ' ' ' ']]\n",
      "['🛥🛥🛥🛥', '🛥🛥🛥🛥', '🛥🛥🛥🛥', '🛥🛥🛥', '🛥🛥', '🛥🛥', '🛥']\n",
      "🛥🛥\n",
      "Placing boat in direction 5\n",
      "Placing boat in position (5, 5)\n",
      "Placing boat in position (5, 5)\n",
      "[[' ' ' ' ' ' ' ' ' ' ' ' ' ' ' ' ' ' ' ']\n",
      " [' ' ' ' ' ' ' ' ' ' ' ' ' ' ' ' ' ' ' ']\n",
      " [' ' ' ' ' ' ' ' ' ' ' ' ' ' ' ' ' ' ' ']\n",
      " [' ' ' ' ' ' ' ' ' ' ' ' ' ' ' ' ' ' ' ']\n",
      " [' ' ' ' ' ' ' ' '🛥' ' ' ' ' ' ' ' ' ' ']\n",
      " [' ' ' ' ' ' ' ' ' ' '🛥' ' ' ' ' ' ' ' ']\n",
      " [' ' ' ' ' ' ' ' ' ' ' ' ' ' ' ' ' ' ' ']\n",
      " [' ' ' ' ' ' ' ' ' ' ' ' ' ' ' ' ' ' ' ']\n",
      " [' ' ' ' ' ' ' ' ' ' ' ' ' ' ' ' ' ' ' ']\n",
      " [' ' ' ' ' ' ' ' ' ' ' ' ' ' ' ' ' ' ' ']]\n",
      "['🛥🛥🛥🛥', '🛥🛥🛥🛥', '🛥🛥🛥🛥', '🛥🛥🛥', '🛥🛥', '🛥']\n",
      "🛥🛥\n",
      "Placing boat in direction 6\n",
      "Placing boat in position (56, 5)\n"
     ]
    },
    {
     "ename": "IndexError",
     "evalue": "index 56 is out of bounds for axis 0 with size 10",
     "output_type": "error",
     "traceback": [
      "\u001b[0;31m---------------------------------------------------------------------------\u001b[0m",
      "\u001b[0;31mIndexError\u001b[0m                                Traceback (most recent call last)",
      "\u001b[0;32m/var/folders/03/72xlxnt17n33vnj7hmplg6540000gn/T/ipykernel_9102/3155651465.py\u001b[0m in \u001b[0;36m<module>\u001b[0;34m\u001b[0m\n\u001b[1;32m      1\u001b[0m \u001b[0mboard_1\u001b[0m \u001b[0;34m=\u001b[0m \u001b[0mboard_starter\u001b[0m\u001b[0;34m(\u001b[0m\u001b[0;34m)\u001b[0m\u001b[0;34m\u001b[0m\u001b[0;34m\u001b[0m\u001b[0m\n\u001b[1;32m      2\u001b[0m \u001b[0mprint\u001b[0m\u001b[0;34m(\u001b[0m\u001b[0mboard_1\u001b[0m\u001b[0;34m)\u001b[0m\u001b[0;34m\u001b[0m\u001b[0;34m\u001b[0m\u001b[0m\n\u001b[0;32m----> 3\u001b[0;31m \u001b[0mplace_all_boats\u001b[0m\u001b[0;34m(\u001b[0m\u001b[0mboard_1\u001b[0m\u001b[0;34m)\u001b[0m\u001b[0;34m\u001b[0m\u001b[0;34m\u001b[0m\u001b[0m\n\u001b[0m\u001b[1;32m      4\u001b[0m \u001b[0mprint\u001b[0m\u001b[0;34m(\u001b[0m\u001b[0mboard_1\u001b[0m\u001b[0;34m)\u001b[0m\u001b[0;34m\u001b[0m\u001b[0;34m\u001b[0m\u001b[0m\n\u001b[1;32m      5\u001b[0m \u001b[0mshooting\u001b[0m\u001b[0;34m(\u001b[0m\u001b[0mboard_1\u001b[0m\u001b[0;34m)\u001b[0m\u001b[0;34m\u001b[0m\u001b[0;34m\u001b[0m\u001b[0m\n",
      "\u001b[0;32m/var/folders/03/72xlxnt17n33vnj7hmplg6540000gn/T/ipykernel_9102/3412977332.py\u001b[0m in \u001b[0;36mplace_all_boats\u001b[0;34m(board)\u001b[0m\n\u001b[1;32m      3\u001b[0m \u001b[0;32mdef\u001b[0m \u001b[0mplace_all_boats\u001b[0m\u001b[0;34m(\u001b[0m\u001b[0mboard\u001b[0m\u001b[0;34m)\u001b[0m\u001b[0;34m:\u001b[0m\u001b[0;34m\u001b[0m\u001b[0;34m\u001b[0m\u001b[0m\n\u001b[1;32m      4\u001b[0m     \u001b[0;32mwhile\u001b[0m \u001b[0mboat_number\u001b[0m \u001b[0;34m>\u001b[0m \u001b[0;36m0\u001b[0m\u001b[0;34m:\u001b[0m\u001b[0;34m\u001b[0m\u001b[0;34m\u001b[0m\u001b[0m\n\u001b[0;32m----> 5\u001b[0;31m         \u001b[0mplace_single_boat\u001b[0m\u001b[0;34m(\u001b[0m\u001b[0mboard_1\u001b[0m\u001b[0;34m,\u001b[0m \u001b[0mchoose_boat\u001b[0m\u001b[0;34m(\u001b[0m\u001b[0mavailable_boats\u001b[0m\u001b[0;34m,\u001b[0m\u001b[0mboat_number\u001b[0m\u001b[0;34m)\u001b[0m\u001b[0;34m)\u001b[0m\u001b[0;34m\u001b[0m\u001b[0;34m\u001b[0m\u001b[0m\n\u001b[0m\u001b[1;32m      6\u001b[0m \u001b[0;34m\u001b[0m\u001b[0m\n\u001b[1;32m      7\u001b[0m \u001b[0;34m\u001b[0m\u001b[0m\n",
      "\u001b[0;32m/var/folders/03/72xlxnt17n33vnj7hmplg6540000gn/T/ipykernel_9102/1902294626.py\u001b[0m in \u001b[0;36mplace_single_boat\u001b[0;34m(board, chosen_boat)\u001b[0m\n\u001b[1;32m     45\u001b[0m     \u001b[0;32mfor\u001b[0m \u001b[0melem\u001b[0m \u001b[0;32min\u001b[0m \u001b[0mboat_position\u001b[0m\u001b[0;34m:\u001b[0m\u001b[0;34m\u001b[0m\u001b[0;34m\u001b[0m\u001b[0m\n\u001b[1;32m     46\u001b[0m         \u001b[0mprint\u001b[0m\u001b[0;34m(\u001b[0m\u001b[0;34m'Placing boat in position'\u001b[0m\u001b[0;34m,\u001b[0m \u001b[0melem\u001b[0m\u001b[0;34m)\u001b[0m\u001b[0;34m\u001b[0m\u001b[0;34m\u001b[0m\u001b[0m\n\u001b[0;32m---> 47\u001b[0;31m         \u001b[0mboard\u001b[0m\u001b[0;34m[\u001b[0m\u001b[0melem\u001b[0m\u001b[0;34m]\u001b[0m \u001b[0;34m=\u001b[0m \u001b[0;34m\"\\U0001F6E5\"\u001b[0m\u001b[0;34m\u001b[0m\u001b[0;34m\u001b[0m\u001b[0m\n\u001b[0m\u001b[1;32m     48\u001b[0m     \u001b[0mprint\u001b[0m\u001b[0;34m(\u001b[0m\u001b[0mboard\u001b[0m\u001b[0;34m)\u001b[0m\u001b[0;34m\u001b[0m\u001b[0;34m\u001b[0m\u001b[0m\n\u001b[1;32m     49\u001b[0m     \u001b[0;32mreturn\u001b[0m \u001b[0mboard\u001b[0m\u001b[0;34m\u001b[0m\u001b[0;34m\u001b[0m\u001b[0m\n",
      "\u001b[0;31mIndexError\u001b[0m: index 56 is out of bounds for axis 0 with size 10"
     ]
    }
   ],
   "source": [
    "board_1 = board_starter()\n",
    "print(board_1)\n",
    "place_all_boats(board_1)\n",
    "print(board_1)\n",
    "shooting(board_1)"
   ]
  },
  {
   "cell_type": "code",
   "execution_count": null,
   "metadata": {},
   "outputs": [],
   "source": [
    "1# class Board:\n",
    "#     '''\n",
    "#     Board class \n",
    "#     '''\n",
    "#     board = np.full((10, 10), fill_value = ' ')   \n",
    "#     board_id = user_board\n",
    "\n",
    "#     def __init__(self, nombre, direccion, numero_empleados, venta_ultimos_3_meses):\n",
    "#         '''\n",
    "#         Definimos los atributos de la tienda:\n",
    "#             nombre: nombre de la tienda (str)\n",
    "#             direccion: dirección en la que se encuentra (str)\n",
    "#             número_empleados: número de personas que trabajan en ella (int)\n",
    "#             venta_ultimos_3_meses: lista de tres elementos, con las ventas de cada uno de los 3 últimos meses\n",
    "#         ''' \n",
    "#         self.nombre = nombre\n",
    "#         self.direccion = direccion\n",
    "#         self.numero_empleados = numero_empleados\n",
    "#         self.venta_ultimos_3_meses = venta_ultimos_3_meses\n",
    "\n",
    "#     def ventas_todos_los_meses(self):\n",
    "#         '''\n",
    "#         Método para calcular las ventas de todos los meses, que devuelve un numero con todas las ventas\n",
    "#         '''\n",
    "#         return sum(self.venta_ultimos_3_meses)6"
   ]
  },
  {
   "cell_type": "code",
   "execution_count": null,
   "metadata": {},
   "outputs": [],
   "source": [
    "# # FUNCION COLOBAR BARCOS EN COORDENADAS\n",
    "\n",
    "# def place_boats(board, boats_list):\n",
    "#     for boat in boats_list:\n",
    "#         board = place_single_boat(board, boat)\n",
    "#     return board"
   ]
  },
  {
   "cell_type": "code",
   "execution_count": 1,
   "metadata": {},
   "outputs": [
    {
     "name": "stdout",
     "output_type": "stream",
     "text": [
      "pygame 2.1.2 (SDL 2.0.18, Python 3.7.4)\n",
      "Hello from the pygame community. https://www.pygame.org/contribute.html\n",
      "[[' ' ' ' ' ' ' ' ' ' ' ' ' ' ' ' ' ' ' ']\n",
      " [' ' ' ' ' ' ' ' ' ' ' ' ' ' ' ' ' ' ' ']\n",
      " [' ' ' ' ' ' ' ' ' ' ' ' ' ' ' ' ' ' ' ']\n",
      " [' ' ' ' ' ' ' ' ' ' ' ' ' ' ' ' ' ' ' ']\n",
      " [' ' ' ' ' ' ' ' ' ' ' ' ' ' ' ' ' ' ' ']\n",
      " [' ' ' ' ' ' ' ' ' ' ' ' ' ' ' ' ' ' ' ']\n",
      " [' ' ' ' ' ' ' ' ' ' ' ' ' ' ' ' ' ' ' ']\n",
      " [' ' ' ' ' ' ' ' ' ' ' ' ' ' ' ' ' ' ' ']\n",
      " [' ' ' ' ' ' ' ' ' ' ' ' ' ' ' ' ' ' ' ']\n",
      " [' ' ' ' ' ' ' ' ' ' ' ' ' ' ' ' ' ' ' ']]\n"
     ]
    },
    {
     "ename": "TypeError",
     "evalue": "place_all_boats() missing 1 required positional argument: 'boat_number'",
     "output_type": "error",
     "traceback": [
      "\u001b[0;31m---------------------------------------------------------------------------\u001b[0m",
      "\u001b[0;31mTypeError\u001b[0m                                 Traceback (most recent call last)",
      "\u001b[0;32m/var/folders/03/72xlxnt17n33vnj7hmplg6540000gn/T/ipykernel_11301/1513174752.py\u001b[0m in \u001b[0;36m<module>\u001b[0;34m\u001b[0m\n\u001b[1;32m     24\u001b[0m \u001b[0;31m# Place boats\u001b[0m\u001b[0;34m\u001b[0m\u001b[0;34m\u001b[0m\u001b[0;34m\u001b[0m\u001b[0m\n\u001b[1;32m     25\u001b[0m \u001b[0;34m\u001b[0m\u001b[0m\n\u001b[0;32m---> 26\u001b[0;31m \u001b[0mf\u001b[0m\u001b[0;34m.\u001b[0m\u001b[0mplace_all_boats\u001b[0m\u001b[0;34m(\u001b[0m\u001b[0mboard_1\u001b[0m\u001b[0;34m)\u001b[0m\u001b[0;34m\u001b[0m\u001b[0;34m\u001b[0m\u001b[0m\n\u001b[0m\u001b[1;32m     27\u001b[0m \u001b[0mprint\u001b[0m\u001b[0;34m(\u001b[0m\u001b[0mboard_1\u001b[0m\u001b[0;34m)\u001b[0m\u001b[0;34m\u001b[0m\u001b[0;34m\u001b[0m\u001b[0m\n\u001b[1;32m     28\u001b[0m \u001b[0;34m\u001b[0m\u001b[0m\n",
      "\u001b[0;31mTypeError\u001b[0m: place_all_boats() missing 1 required positional argument: 'boat_number'"
     ]
    }
   ],
   "source": [
    "import numpy as np\n",
    "import random\n",
    "import os\n",
    "import pygame\n",
    "from emoji import emojize\n",
    "\n",
    "import hundir_la_flota_funciones as f\n",
    "import hundir_la_flota_variables as v\n",
    "\n",
    "\n",
    "# Disable Pygame initial message\n",
    "\n",
    "os.environ['PYGAME_HIDE_SUPPORT_PROMPT'] = \"sí\"\n",
    "pygame.init()\n",
    "pygame.mixer.init()\n",
    "\n",
    "\n",
    "# Start board\n",
    "\n",
    "board_1 = f.board_starter()\n",
    "print(board_1)\n",
    "\n",
    "\n",
    "# Place boats\n",
    "\n",
    "f.place_all_boats(board_1)\n",
    "print(board_1)\n",
    "\n",
    "# User shoots\n",
    "\n",
    "f.shooting(board_1)"
   ]
  },
  {
   "cell_type": "code",
   "execution_count": 4,
   "metadata": {},
   "outputs": [
    {
     "name": "stdout",
     "output_type": "stream",
     "text": [
      "['North', 'East', 'West']\n"
     ]
    }
   ],
   "source": [
    "import random\n",
    "direction_list = [\"North\", \"South\", \"East\", \"West\"]\n",
    "direction_list.remove(\"South\")\n",
    "direction = random.choice(direction_list)"
   ]
  },
  {
   "cell_type": "code",
   "execution_count": 4,
   "metadata": {},
   "outputs": [
    {
     "name": "stdout",
     "output_type": "stream",
     "text": [
      "  0 1 2 3 4 5 6 7 8 9\n",
      "A · · · · · · · · · ·\n",
      "B · · · · · · · · · ·\n",
      "C · · · · · · · · · ·\n",
      "D · · · · · · · · · ·\n",
      "E · · · · · · · · · ·\n",
      "F · · · · · · · · · ·\n",
      "G · · · · · · · · · ·\n",
      "H · · · · · · · · · ·\n",
      "I · · · · · · · · · ·\n",
      "J · · · · · · · · · ·\n"
     ]
    }
   ],
   "source": [
    "# Building the gameboard\n",
    "board = []\n",
    "for x in range(10):\n",
    "    board.append([\"·\"] * 10)\n",
    "\n",
    "def print_board(board):\n",
    "    print(\" \", \" \".join(\"0123456789\"))\n",
    "    for letter, row in zip(\"ABCDEFGHIJ\", board):\n",
    "        print(letter, \" \".join(row))\n",
    "\n",
    "print_board(board)"
   ]
  },
  {
   "cell_type": "code",
   "execution_count": 6,
   "metadata": {},
   "outputs": [],
   "source": [
    "class Board:\n",
    "    '''\n",
    "    Board class used to create the 3 necessary boards for the game\n",
    "    '''\n",
    "    board = []\n",
    "    for x in range(10):\n",
    "        board.append([\"·\"] * 10)\n",
    "\n",
    "    def print_board(board):\n",
    "        print(\" \", \" \".join(\"0123456789\"))\n",
    "        for letter, row in zip(\"ABCDEFGHIJ\", board):\n",
    "            print(letter, \" \".join(row))\n",
    "        print_board(board)"
   ]
  },
  {
   "cell_type": "code",
   "execution_count": null,
   "metadata": {},
   "outputs": [],
   "source": []
  }
 ],
 "metadata": {
  "kernelspec": {
   "display_name": "Python 3.7.4 64-bit",
   "language": "python",
   "name": "python3"
  },
  "language_info": {
   "codemirror_mode": {
    "name": "ipython",
    "version": 3
   },
   "file_extension": ".py",
   "mimetype": "text/x-python",
   "name": "python",
   "nbconvert_exporter": "python",
   "pygments_lexer": "ipython3",
   "version": "3.7.4"
  },
  "orig_nbformat": 4,
  "vscode": {
   "interpreter": {
    "hash": "aee8b7b246df8f9039afb4144a1f6fd8d2ca17a180786b69acc140d282b71a49"
   }
  }
 },
 "nbformat": 4,
 "nbformat_minor": 2
}
